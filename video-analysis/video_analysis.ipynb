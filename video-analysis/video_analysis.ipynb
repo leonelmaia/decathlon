{
 "cells": [
  {
   "cell_type": "code",
   "execution_count": 1,
   "metadata": {},
   "outputs": [],
   "source": [
    "%load_ext jupyter_black\n",
    "from pytubefix import YouTube"
   ]
  },
  {
   "cell_type": "code",
   "execution_count": 2,
   "metadata": {},
   "outputs": [
    {
     "data": {
      "text/plain": [
       "'/home/leonelmaia/LM_repo/repo/decathlon/video-analysis/video.mp4'"
      ]
     },
     "execution_count": 2,
     "metadata": {},
     "output_type": "execute_result"
    }
   ],
   "source": [
    "url = \"https://www.youtube.com/watch?v=KMJS66jBtVQ\"\n",
    "yt = YouTube(url)\n",
    "\n",
    "\n",
    "stream = yt.streams.filter(file_extension=\"mp4\").get_highest_resolution()\n",
    "stream.download(filename=\"video.mp4\")"
   ]
  },
  {
   "cell_type": "code",
   "execution_count": 3,
   "metadata": {},
   "outputs": [
    {
     "name": "stdout",
     "output_type": "stream",
     "text": [
      "2025-08-20 23:47:45,926 [INFO] ✅ Loaded model yolov8n.pt\n",
      "Traceback (most recent call last):\n",
      "  File \"/home/leonelmaia/LM_repo/repo/decathlon/video-analysis/video_analysis.py\", line 21, in <module>\n",
      "    unique_ids = deca.process_video(\n",
      "  File \"/home/leonelmaia/LM_repo/repo/decathlon/video-analysis/utils.py\", line 400, in process_video\n",
      "    annotated, unique_ids = process_frame(\n",
      "  File \"/home/leonelmaia/LM_repo/repo/decathlon/video-analysis/utils.py\", line 242, in process_frame\n",
      "    results = model.track(\n",
      "  File \"/home/leonelmaia/LM_repo/environments/deca/lib/python3.10/site-packages/ultralytics/engine/model.py\", line 599, in track\n",
      "    return self.predict(source=source, stream=stream, **kwargs)\n",
      "  File \"/home/leonelmaia/LM_repo/environments/deca/lib/python3.10/site-packages/ultralytics/engine/model.py\", line 555, in predict\n",
      "    return self.predictor.predict_cli(source=source) if is_cli else self.predictor(source=source, stream=stream)\n",
      "  File \"/home/leonelmaia/LM_repo/environments/deca/lib/python3.10/site-packages/ultralytics/engine/predictor.py\", line 227, in __call__\n",
      "    return list(self.stream_inference(source, model, *args, **kwargs))  # merge list of Result into one\n",
      "  File \"/home/leonelmaia/LM_repo/environments/deca/lib/python3.10/site-packages/torch/utils/_contextlib.py\", line 38, in generator_context\n",
      "    response = gen.send(None)\n",
      "  File \"/home/leonelmaia/LM_repo/environments/deca/lib/python3.10/site-packages/ultralytics/engine/predictor.py\", line 308, in stream_inference\n",
      "    self.model.warmup(\n",
      "  File \"/home/leonelmaia/LM_repo/environments/deca/lib/python3.10/site-packages/ultralytics/nn/autobackend.py\", line 858, in warmup\n",
      "    import torchvision  # noqa (import here so torchvision import time not recorded in postprocess time)\n",
      "  File \"/home/leonelmaia/LM_repo/environments/deca/lib/python3.10/site-packages/torchvision/__init__.py\", line 10, in <module>\n",
      "    from torchvision import _meta_registrations, datasets, io, models, ops, transforms, utils  # usort:skip\n",
      "  File \"/home/leonelmaia/LM_repo/environments/deca/lib/python3.10/site-packages/torchvision/models/__init__.py\", line 2, in <module>\n",
      "    from .convnext import *\n",
      "  File \"/home/leonelmaia/LM_repo/environments/deca/lib/python3.10/site-packages/torchvision/models/convnext.py\", line 9, in <module>\n",
      "    from ..ops.misc import Conv2dNormActivation, Permute\n",
      "  File \"/home/leonelmaia/LM_repo/environments/deca/lib/python3.10/site-packages/torchvision/ops/__init__.py\", line 23, in <module>\n",
      "    from .poolers import MultiScaleRoIAlign\n",
      "  File \"/home/leonelmaia/LM_repo/environments/deca/lib/python3.10/site-packages/torchvision/ops/poolers.py\", line 10, in <module>\n",
      "    from .roi_align import roi_align\n",
      "  File \"/home/leonelmaia/LM_repo/environments/deca/lib/python3.10/site-packages/torchvision/ops/roi_align.py\", line 7, in <module>\n",
      "    from torch._dynamo.utils import is_compile_supported\n",
      "  File \"/home/leonelmaia/LM_repo/environments/deca/lib/python3.10/site-packages/torch/_dynamo/__init__.py\", line 56, in <module>\n",
      "    from .polyfills import loader as _  # usort: skip # noqa: F401\n",
      "  File \"/home/leonelmaia/LM_repo/environments/deca/lib/python3.10/site-packages/torch/_dynamo/polyfills/loader.py\", line 26, in <module>\n",
      "    POLYFILLED_MODULES: tuple[\"ModuleType\", ...] = tuple(\n",
      "  File \"/home/leonelmaia/LM_repo/environments/deca/lib/python3.10/site-packages/torch/_dynamo/polyfills/loader.py\", line 27, in <genexpr>\n",
      "    importlib.import_module(f\".{submodule}\", package=polyfills.__name__)\n",
      "  File \"/usr/lib/python3.10/importlib/__init__.py\", line 126, in import_module\n",
      "    return _bootstrap._gcd_import(name[level:], package, level)\n",
      "  File \"/home/leonelmaia/LM_repo/environments/deca/lib/python3.10/site-packages/torch/_dynamo/polyfills/builtins.py\", line 31, in <module>\n",
      "    def all(iterable: Iterable[object], /) -> bool:\n",
      "  File \"/home/leonelmaia/LM_repo/environments/deca/lib/python3.10/site-packages/torch/_dynamo/decorators.py\", line 454, in wrapper\n",
      "    rule_map: dict[Any, type[VariableTracker]] = get_torch_obj_rule_map()\n",
      "  File \"/home/leonelmaia/LM_repo/environments/deca/lib/python3.10/site-packages/torch/_dynamo/tra^C\n"
     ]
    }
   ],
   "source": [
    "# Testing with a smaller and lighter version of Yolo.\n",
    "!python video_analysis.py --input video.mp4 --output out.mp4 --model yolov8n.pt --conf 0.1 --iou 0.5"
   ]
  }
 ],
 "metadata": {
  "kernelspec": {
   "display_name": "deca",
   "language": "python",
   "name": "python3"
  },
  "language_info": {
   "codemirror_mode": {
    "name": "ipython",
    "version": 3
   },
   "file_extension": ".py",
   "mimetype": "text/x-python",
   "name": "python",
   "nbconvert_exporter": "python",
   "pygments_lexer": "ipython3",
   "version": "3.10.18"
  }
 },
 "nbformat": 4,
 "nbformat_minor": 2
}
